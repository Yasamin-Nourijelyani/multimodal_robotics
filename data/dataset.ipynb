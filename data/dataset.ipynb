{
 "cells": [
  {
   "cell_type": "code",
   "execution_count": null,
   "metadata": {},
   "outputs": [],
   "source": [
    "from datasets import Dataset, Image\n",
    "import numpy as np\n",
    "import pandas as pd"
   ]
  },
  {
   "cell_type": "code",
   "execution_count": null,
   "metadata": {},
   "outputs": [],
   "source": [
    "ds_csv = pd.read_csv('NLICorpusData_1400.csv')\n",
    "\n",
    "ds_csv.head()"
   ]
  },
  {
   "cell_type": "code",
   "execution_count": null,
   "metadata": {},
   "outputs": [],
   "source": [
    "# only keep the columns we need, description, index, Scenario\n",
    "ds_csv = ds_csv[['Description', 'Index', 'Scenario']]\n",
    "\n",
    "# print the first 5 rows\n",
    "ds_csv.head()\n"
   ]
  },
  {
   "cell_type": "code",
   "execution_count": null,
   "metadata": {},
   "outputs": [],
   "source": [
    "block_metadata = pd.read_csv('block_metadata.csv')\n",
    "# iterate over the rows and create a list of dictionaries\n",
    "\n",
    "data = []\n",
    "for index, row in ds_csv.iterrows():\n",
    "    original_scenario = row['Scenario'][:-4]\n",
    "    original_scenario = 'v' + original_scenario[-1]\n",
    "\n",
    "    # remove last 6 characters from scenario\n",
    "    row['Scenario'] = row['Scenario'][:-7]\n",
    "    img_config = row['Scenario'][14:]\n",
    "    row['Scenario'] = row['Scenario'] + '.png'\n",
    "    row['Scenario'] = 'images/' + row['Scenario']\n",
    "\n",
    "    # find the block metadata for the current image by comparing the img_config\n",
    "    block = block_metadata['img_config'] == int(img_config)\n",
    "\n",
    "    if original_scenario == 'v1':\n",
    "        block = block & block_metadata['v1'] == 1\n",
    "        orig_marked_img = 'orig_with_arrows/' + 'Configuration_' + str(img_config).zfill(2) + '_v1.png'\n",
    "\n",
    "    elif original_scenario == 'v2':\n",
    "        block = block & block_metadata['v2'] == 1\n",
    "        orig_marked_img = 'orig_with_arrows/' + 'Configuration_' + str(img_config).zfill(2) + '_v2.png'\n",
    "\n",
    "\n",
    "    \n",
    "    # get index of true value\n",
    "    block_index = block[block == True].index[0]\n",
    "    answer = block_metadata.iloc[block_index]['block_id']\n",
    "    synthetic_img = 'synthetic_images/' + 'synthetic_image_' + str(img_config) + '.png'\n",
    "    \n",
    "    # 2 digit img_config\n",
    "    orig_img = 'orig_without_arrows/' + 'Configuration_' + str(img_config).zfill(2) + '.png'\n",
    "\n",
    "\n",
    "    data.append({'index': row['Index'], 'description': row['Description'], 'scenario': row['Scenario'], 'synthetic_scenario': synthetic_img, 'original_scenario': orig_img, 'original_scenario_marked': orig_marked_img,'answer': answer})"
   ]
  },
  {
   "cell_type": "code",
   "execution_count": null,
   "metadata": {},
   "outputs": [],
   "source": [
    "# print example\n",
    "data[0]"
   ]
  },
  {
   "cell_type": "code",
   "execution_count": null,
   "metadata": {},
   "outputs": [],
   "source": [
    "def gen():\n",
    "    for d in data:\n",
    "        yield d\n",
    "\n",
    "ds = Dataset.from_generator(gen)\n",
    "ds = ds.cast_column(\"scenario\", Image())\n",
    "ds = ds.cast_column(\"synthetic_scenario\", Image())\n",
    "ds = ds.cast_column(\"original_scenario\", Image())\n",
    "ds = ds.cast_column(\"original_scenario_marked\", Image())"
   ]
  },
  {
   "cell_type": "code",
   "execution_count": null,
   "metadata": {},
   "outputs": [],
   "source": [
    "ds.push_to_hub('nli_multimodal_ds')"
   ]
  }
 ],
 "metadata": {
  "kernelspec": {
   "display_name": ".venv",
   "language": "python",
   "name": "python3"
  },
  "language_info": {
   "codemirror_mode": {
    "name": "ipython",
    "version": 3
   },
   "file_extension": ".py",
   "mimetype": "text/x-python",
   "name": "python",
   "nbconvert_exporter": "python",
   "pygments_lexer": "ipython3",
   "version": "3.10.12"
  }
 },
 "nbformat": 4,
 "nbformat_minor": 2
}
