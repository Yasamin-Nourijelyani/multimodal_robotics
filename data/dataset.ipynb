{
 "cells": [
  {
   "cell_type": "code",
   "execution_count": 27,
   "metadata": {},
   "outputs": [],
   "source": [
    "from datasets import Dataset, Image\n",
    "import numpy as np\n",
    "import pandas as pd"
   ]
  },
  {
   "cell_type": "code",
   "execution_count": 2,
   "metadata": {},
   "outputs": [
    {
     "data": {
      "text/html": [
       "<div>\n",
       "<style scoped>\n",
       "    .dataframe tbody tr th:only-of-type {\n",
       "        vertical-align: middle;\n",
       "    }\n",
       "\n",
       "    .dataframe tbody tr th {\n",
       "        vertical-align: top;\n",
       "    }\n",
       "\n",
       "    .dataframe thead th {\n",
       "        text-align: right;\n",
       "    }\n",
       "</style>\n",
       "<table border=\"1\" class=\"dataframe\">\n",
       "  <thead>\n",
       "    <tr style=\"text-align: right;\">\n",
       "      <th></th>\n",
       "      <th>Description</th>\n",
       "      <th>Index</th>\n",
       "      <th>Scenario</th>\n",
       "      <th>AgentType</th>\n",
       "      <th>Difficulty</th>\n",
       "      <th>TimeToComplete</th>\n",
       "      <th>Strategy</th>\n",
       "      <th>Challenging</th>\n",
       "      <th>GeneralComments</th>\n",
       "      <th>Age</th>\n",
       "      <th>...</th>\n",
       "      <th>Occupation</th>\n",
       "      <th>ComputerUsage</th>\n",
       "      <th>DominantHand</th>\n",
       "      <th>EnglishAsFirst</th>\n",
       "      <th>ExpWithRobots</th>\n",
       "      <th>ExpWithRCCars</th>\n",
       "      <th>ExpWithFPS</th>\n",
       "      <th>ExpWithRTS</th>\n",
       "      <th>ExpWithRobotComments</th>\n",
       "      <th>InternalUserID</th>\n",
       "    </tr>\n",
       "  </thead>\n",
       "  <tbody>\n",
       "    <tr>\n",
       "      <th>0</th>\n",
       "      <td>Pick up the yellow cube.</td>\n",
       "      <td>1341</td>\n",
       "      <td>Configuration_1_v1.png</td>\n",
       "      <td>human</td>\n",
       "      <td>5.0</td>\n",
       "      <td>0:00:16</td>\n",
       "      <td>Tried to find something that would differ the ...</td>\n",
       "      <td>Moderately challenging at the beginning but it...</td>\n",
       "      <td>NaN</td>\n",
       "      <td>28</td>\n",
       "      <td>...</td>\n",
       "      <td>Engineer</td>\n",
       "      <td>15-20</td>\n",
       "      <td>Right</td>\n",
       "      <td>1.0</td>\n",
       "      <td>3</td>\n",
       "      <td>1.0</td>\n",
       "      <td>5</td>\n",
       "      <td>3</td>\n",
       "      <td>Yes, I had to build one in one of my classes</td>\n",
       "      <td>915</td>\n",
       "    </tr>\n",
       "    <tr>\n",
       "      <th>1</th>\n",
       "      <td>pick up the yellow block</td>\n",
       "      <td>1363</td>\n",
       "      <td>Configuration_1_v1.png</td>\n",
       "      <td>human</td>\n",
       "      <td>5.0</td>\n",
       "      <td>0:00:14</td>\n",
       "      <td>using left and right</td>\n",
       "      <td>describing the instructions from their point o...</td>\n",
       "      <td>NaN</td>\n",
       "      <td>35</td>\n",
       "      <td>...</td>\n",
       "      <td>retail manager</td>\n",
       "      <td>&gt;20</td>\n",
       "      <td>Right</td>\n",
       "      <td>1.0</td>\n",
       "      <td>2</td>\n",
       "      <td>2.0</td>\n",
       "      <td>5</td>\n",
       "      <td>4</td>\n",
       "      <td>no</td>\n",
       "      <td>911</td>\n",
       "    </tr>\n",
       "    <tr>\n",
       "      <th>2</th>\n",
       "      <td>Please pick up the yellow block</td>\n",
       "      <td>1387</td>\n",
       "      <td>Configuration_1_v1.png</td>\n",
       "      <td>human</td>\n",
       "      <td>5.0</td>\n",
       "      <td>0:00:18</td>\n",
       "      <td>Not really, just addressing each case individu...</td>\n",
       "      <td>The most challenging tasks were the ones where...</td>\n",
       "      <td>NaN</td>\n",
       "      <td>37</td>\n",
       "      <td>...</td>\n",
       "      <td>HR Specalist</td>\n",
       "      <td>&gt;20</td>\n",
       "      <td>Right</td>\n",
       "      <td>1.0</td>\n",
       "      <td>1</td>\n",
       "      <td>1.0</td>\n",
       "      <td>6</td>\n",
       "      <td>5</td>\n",
       "      <td>No</td>\n",
       "      <td>913</td>\n",
       "    </tr>\n",
       "    <tr>\n",
       "      <th>3</th>\n",
       "      <td>grab the yellow block.</td>\n",
       "      <td>1438</td>\n",
       "      <td>Configuration_1_v1.png</td>\n",
       "      <td>human</td>\n",
       "      <td>5.0</td>\n",
       "      <td>0:00:10</td>\n",
       "      <td>I followed common sense strategies.</td>\n",
       "      <td>Not challenging. Describing different blocks o...</td>\n",
       "      <td>interesting.</td>\n",
       "      <td>25</td>\n",
       "      <td>...</td>\n",
       "      <td>self employed</td>\n",
       "      <td>&gt;20</td>\n",
       "      <td>Left</td>\n",
       "      <td>1.0</td>\n",
       "      <td>2</td>\n",
       "      <td>2.0</td>\n",
       "      <td>3</td>\n",
       "      <td>3</td>\n",
       "      <td>no</td>\n",
       "      <td>903</td>\n",
       "    </tr>\n",
       "    <tr>\n",
       "      <th>4</th>\n",
       "      <td>I would ask them to lift the block that's fart...</td>\n",
       "      <td>1460</td>\n",
       "      <td>Configuration_1_v1.png</td>\n",
       "      <td>human</td>\n",
       "      <td>4.0</td>\n",
       "      <td>0:00:32</td>\n",
       "      <td>No.</td>\n",
       "      <td>I was sort of challenging but nothing I couldn...</td>\n",
       "      <td>Thanks!</td>\n",
       "      <td>31</td>\n",
       "      <td>...</td>\n",
       "      <td>Photographer</td>\n",
       "      <td>15-20</td>\n",
       "      <td>Right</td>\n",
       "      <td>1.0</td>\n",
       "      <td>5</td>\n",
       "      <td>3.0</td>\n",
       "      <td>5</td>\n",
       "      <td>5</td>\n",
       "      <td>Yes. The experience was amusing.</td>\n",
       "      <td>901</td>\n",
       "    </tr>\n",
       "  </tbody>\n",
       "</table>\n",
       "<p>5 rows × 21 columns</p>\n",
       "</div>"
      ],
      "text/plain": [
       "                                         Description  Index  \\\n",
       "0                           Pick up the yellow cube.   1341   \n",
       "1                           pick up the yellow block   1363   \n",
       "2                    Please pick up the yellow block   1387   \n",
       "3                             grab the yellow block.   1438   \n",
       "4  I would ask them to lift the block that's fart...   1460   \n",
       "\n",
       "                 Scenario AgentType  Difficulty TimeToComplete  \\\n",
       "0  Configuration_1_v1.png     human         5.0        0:00:16   \n",
       "1  Configuration_1_v1.png     human         5.0        0:00:14   \n",
       "2  Configuration_1_v1.png     human         5.0        0:00:18   \n",
       "3  Configuration_1_v1.png     human         5.0        0:00:10   \n",
       "4  Configuration_1_v1.png     human         4.0        0:00:32   \n",
       "\n",
       "                                            Strategy  \\\n",
       "0  Tried to find something that would differ the ...   \n",
       "1                               using left and right   \n",
       "2  Not really, just addressing each case individu...   \n",
       "3                I followed common sense strategies.   \n",
       "4                                                No.   \n",
       "\n",
       "                                         Challenging GeneralComments  Age  \\\n",
       "0  Moderately challenging at the beginning but it...             NaN   28   \n",
       "1  describing the instructions from their point o...             NaN   35   \n",
       "2  The most challenging tasks were the ones where...             NaN   37   \n",
       "3  Not challenging. Describing different blocks o...    interesting.   25   \n",
       "4  I was sort of challenging but nothing I couldn...         Thanks!   31   \n",
       "\n",
       "   ...      Occupation ComputerUsage DominantHand EnglishAsFirst  \\\n",
       "0  ...        Engineer         15-20        Right            1.0   \n",
       "1  ...  retail manager           >20        Right            1.0   \n",
       "2  ...    HR Specalist           >20        Right            1.0   \n",
       "3  ...   self employed           >20         Left            1.0   \n",
       "4  ...    Photographer         15-20        Right            1.0   \n",
       "\n",
       "   ExpWithRobots  ExpWithRCCars  ExpWithFPS  ExpWithRTS  \\\n",
       "0              3            1.0           5           3   \n",
       "1              2            2.0           5           4   \n",
       "2              1            1.0           6           5   \n",
       "3              2            2.0           3           3   \n",
       "4              5            3.0           5           5   \n",
       "\n",
       "                            ExpWithRobotComments InternalUserID  \n",
       "0  Yes, I had to build one in one of my classes             915  \n",
       "1                                             no            911  \n",
       "2                                             No            913  \n",
       "3                                             no            903  \n",
       "4               Yes. The experience was amusing.            901  \n",
       "\n",
       "[5 rows x 21 columns]"
      ]
     },
     "execution_count": 2,
     "metadata": {},
     "output_type": "execute_result"
    }
   ],
   "source": [
    "ds_csv = pd.read_csv('NLICorpusData_1400.csv')\n",
    "\n",
    "ds_csv.head()"
   ]
  },
  {
   "cell_type": "code",
   "execution_count": 3,
   "metadata": {},
   "outputs": [
    {
     "data": {
      "text/html": [
       "<div>\n",
       "<style scoped>\n",
       "    .dataframe tbody tr th:only-of-type {\n",
       "        vertical-align: middle;\n",
       "    }\n",
       "\n",
       "    .dataframe tbody tr th {\n",
       "        vertical-align: top;\n",
       "    }\n",
       "\n",
       "    .dataframe thead th {\n",
       "        text-align: right;\n",
       "    }\n",
       "</style>\n",
       "<table border=\"1\" class=\"dataframe\">\n",
       "  <thead>\n",
       "    <tr style=\"text-align: right;\">\n",
       "      <th></th>\n",
       "      <th>Description</th>\n",
       "      <th>Index</th>\n",
       "      <th>Scenario</th>\n",
       "    </tr>\n",
       "  </thead>\n",
       "  <tbody>\n",
       "    <tr>\n",
       "      <th>0</th>\n",
       "      <td>Pick up the yellow cube.</td>\n",
       "      <td>1341</td>\n",
       "      <td>Configuration_1_v1.png</td>\n",
       "    </tr>\n",
       "    <tr>\n",
       "      <th>1</th>\n",
       "      <td>pick up the yellow block</td>\n",
       "      <td>1363</td>\n",
       "      <td>Configuration_1_v1.png</td>\n",
       "    </tr>\n",
       "    <tr>\n",
       "      <th>2</th>\n",
       "      <td>Please pick up the yellow block</td>\n",
       "      <td>1387</td>\n",
       "      <td>Configuration_1_v1.png</td>\n",
       "    </tr>\n",
       "    <tr>\n",
       "      <th>3</th>\n",
       "      <td>grab the yellow block.</td>\n",
       "      <td>1438</td>\n",
       "      <td>Configuration_1_v1.png</td>\n",
       "    </tr>\n",
       "    <tr>\n",
       "      <th>4</th>\n",
       "      <td>I would ask them to lift the block that's fart...</td>\n",
       "      <td>1460</td>\n",
       "      <td>Configuration_1_v1.png</td>\n",
       "    </tr>\n",
       "  </tbody>\n",
       "</table>\n",
       "</div>"
      ],
      "text/plain": [
       "                                         Description  Index  \\\n",
       "0                           Pick up the yellow cube.   1341   \n",
       "1                           pick up the yellow block   1363   \n",
       "2                    Please pick up the yellow block   1387   \n",
       "3                             grab the yellow block.   1438   \n",
       "4  I would ask them to lift the block that's fart...   1460   \n",
       "\n",
       "                 Scenario  \n",
       "0  Configuration_1_v1.png  \n",
       "1  Configuration_1_v1.png  \n",
       "2  Configuration_1_v1.png  \n",
       "3  Configuration_1_v1.png  \n",
       "4  Configuration_1_v1.png  "
      ]
     },
     "execution_count": 3,
     "metadata": {},
     "output_type": "execute_result"
    }
   ],
   "source": [
    "# only keep the columns we need, description, index, Scenario\n",
    "ds_csv = ds_csv[['Description', 'Index', 'Scenario']]\n",
    "\n",
    "# print the first 5 rows\n",
    "ds_csv.head()\n"
   ]
  },
  {
   "cell_type": "code",
   "execution_count": 31,
   "metadata": {},
   "outputs": [],
   "source": [
    "block_metadata = pd.read_csv('block_metadata.csv')\n",
    "# iterate over the rows and create a list of dictionaries\n",
    "\n",
    "data = []\n",
    "for index, row in ds_csv.iterrows():\n",
    "    original_scenario = row['Scenario'][:-4]\n",
    "    original_scenario = 'v' + original_scenario[-1]\n",
    "\n",
    "    # remove last 6 characters from scenario\n",
    "    row['Scenario'] = row['Scenario'][:-7]\n",
    "    img_config = row['Scenario'][14:]\n",
    "    row['Scenario'] = row['Scenario'] + '.png'\n",
    "    row['Scenario'] = 'images/' + row['Scenario']\n",
    "\n",
    "    # find the block metadata for the current image by comparing the img_config\n",
    "    block = block_metadata['img_config'] == int(img_config)\n",
    "\n",
    "    if original_scenario == 'v1':\n",
    "        block = block & block_metadata['v1'] == 1\n",
    "    elif original_scenario == 'v2':\n",
    "        block = block & block_metadata['v2'] == 1\n",
    "\n",
    "    \n",
    "    # get index of true value\n",
    "    block_index = block[block == True].index[0]\n",
    "    answer = block_metadata.iloc[block_index]['block_id']\n",
    "\n",
    "    data.append({'description': row['Description'], 'index': row['Index'], 'scenario': row['Scenario'], 'answer': answer})"
   ]
  },
  {
   "cell_type": "code",
   "execution_count": 32,
   "metadata": {},
   "outputs": [
    {
     "data": {
      "application/vnd.jupyter.widget-view+json": {
       "model_id": "eaf68d0fe90c46be8ff6c32fcd143af1",
       "version_major": 2,
       "version_minor": 0
      },
      "text/plain": [
       "Generating train split: 0 examples [00:00, ? examples/s]"
      ]
     },
     "metadata": {},
     "output_type": "display_data"
    }
   ],
   "source": [
    "def gen():\n",
    "    for d in data:\n",
    "        yield d\n",
    "\n",
    "ds = Dataset.from_generator(gen)\n",
    "ds = ds.cast_column(\"scenario\", Image())"
   ]
  },
  {
   "cell_type": "code",
   "execution_count": 33,
   "metadata": {},
   "outputs": [
    {
     "data": {
      "application/vnd.jupyter.widget-view+json": {
       "model_id": "b0810aee4ce54071a9e43dd1a2436c9c",
       "version_major": 2,
       "version_minor": 0
      },
      "text/plain": [
       "Uploading the dataset shards:   0%|          | 0/1 [00:00<?, ?it/s]"
      ]
     },
     "metadata": {},
     "output_type": "display_data"
    },
    {
     "data": {
      "application/vnd.jupyter.widget-view+json": {
       "model_id": "3a08a59d619241b583b854f8dda123e0",
       "version_major": 2,
       "version_minor": 0
      },
      "text/plain": [
       "Map:   0%|          | 0/1400 [00:00<?, ? examples/s]"
      ]
     },
     "metadata": {},
     "output_type": "display_data"
    },
    {
     "data": {
      "application/vnd.jupyter.widget-view+json": {
       "model_id": "1be7015f2ae345789c0e7e70d520b1d9",
       "version_major": 2,
       "version_minor": 0
      },
      "text/plain": [
       "Creating parquet from Arrow format:   0%|          | 0/14 [00:00<?, ?ba/s]"
      ]
     },
     "metadata": {},
     "output_type": "display_data"
    },
    {
     "data": {
      "application/vnd.jupyter.widget-view+json": {
       "model_id": "f9ca0a6471ce4848a8b04c8f78dca57f",
       "version_major": 2,
       "version_minor": 0
      },
      "text/plain": [
       "README.md:   0%|          | 0.00/382 [00:00<?, ?B/s]"
      ]
     },
     "metadata": {},
     "output_type": "display_data"
    },
    {
     "data": {
      "text/plain": [
       "CommitInfo(commit_url='https://huggingface.co/datasets/Swapnil949/nli_multimodal_ds/commit/3e556586d34d9558641738a7965e07a3d9ec862d', commit_message='Upload dataset', commit_description='', oid='3e556586d34d9558641738a7965e07a3d9ec862d', pr_url=None, pr_revision=None, pr_num=None)"
      ]
     },
     "execution_count": 33,
     "metadata": {},
     "output_type": "execute_result"
    }
   ],
   "source": [
    "ds.push_to_hub('nli_multimodal_ds')"
   ]
  }
 ],
 "metadata": {
  "kernelspec": {
   "display_name": ".venv",
   "language": "python",
   "name": "python3"
  },
  "language_info": {
   "codemirror_mode": {
    "name": "ipython",
    "version": 3
   },
   "file_extension": ".py",
   "mimetype": "text/x-python",
   "name": "python",
   "nbconvert_exporter": "python",
   "pygments_lexer": "ipython3",
   "version": "3.10.12"
  }
 },
 "nbformat": 4,
 "nbformat_minor": 2
}
