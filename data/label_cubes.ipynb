{
 "cells": [
  {
   "cell_type": "code",
   "execution_count": 4,
   "metadata": {},
   "outputs": [],
   "source": [
    "from PIL import Image\n",
    "from PIL import ImageDraw, ImageFont\n",
    "import os\n",
    "import pandas as pd"
   ]
  },
  {
   "cell_type": "code",
   "execution_count": 5,
   "metadata": {},
   "outputs": [],
   "source": [
    "block_location = pd.read_csv('./block_location.csv')\n",
    "\n",
    "# use monospace font and red color\n",
    "font = ImageFont.truetype(\"FreeMono.ttf\", 16)\n",
    "font_scale = 0.5\n",
    "font_color = (234, 0 , 255)"
   ]
  },
  {
   "cell_type": "code",
   "execution_count": 6,
   "metadata": {},
   "outputs": [],
   "source": [
    "# load all png images from './orig_without_arrows' folder\n",
    "\n",
    "dir = './orig_without_arrows'\n",
    "dir_1 = './orig_with_arrows'\n",
    "\n",
    "out_dir = './lab_without_arrows'\n",
    "out_dir_1 = './lab_with_arrows'\n",
    "\n",
    "if not os.path.exists(out_dir):\n",
    "    os.makedirs(out_dir)\n",
    "\n",
    "if not os.path.exists(out_dir_1):\n",
    "    os.makedirs(out_dir_1)\n",
    "\n",
    "\n",
    "images = [os.path.join(dir, f) for f in os.listdir(dir) if f.endswith('.png')]\n",
    "\n",
    "for i, img in enumerate(images):\n",
    "    img = Image.open(img)\n",
    "    # img_config is labeled as \"Configuration_01.png\" and \"Configuration_02.png\"\n",
    "    img_config_id = int(os.listdir(dir)[i].split('_')[1].split('.')[0])\n",
    "\n",
    "    # add labels at block locations\n",
    "    for j, block in enumerate(block_location.values):\n",
    "        # check if block_location is for the current image\n",
    "        if block[0] != img_config_id:\n",
    "            continue\n",
    "        # add label at the block location\n",
    "        # columns are labeled block_id and x, y\n",
    "        draw = ImageDraw.Draw(img)\n",
    "        draw.text((int(block[2])-5, int(block[3])-5), str(block[1]), font=font, fill=font_color)\n",
    "\n",
    "\n",
    "    # save the image in the out_dir\n",
    "    img.save(os.path.join(out_dir, f'lab_{img_config_id}.png'))\n",
    "\n",
    "\n",
    "# load all png images from './orig_with_arrows' folder\n",
    "images = [os.path.join(dir_1, f) for f in os.listdir(dir_1) if f.endswith('.png')]\n",
    "\n",
    "for i, img in enumerate(images):\n",
    "    img = Image.open(img)\n",
    "\n",
    "    img_config_id = int(os.listdir(dir_1)[i].split('_')[-2].lstrip('Configuration'))\n",
    "    img_ver_id = int(os.listdir(dir_1)[i].split('_')[-1].split('.')[0].lstrip('v'))\n",
    "\n",
    "    # add labels at block locations\n",
    "    for j, block in enumerate(block_location.values):\n",
    "        # check if block_location is for the current image\n",
    "        if block[0] != img_config_id:\n",
    "            continue\n",
    "        # add label at the block location\n",
    "        # columns are labeled block_id and x, y\n",
    "        draw = ImageDraw.Draw(img)\n",
    "        draw.text((int(block[2])-5, int(block[3])-5), str(block[1]), font=font, fill=font_color)\n",
    "\n",
    "    # save the image in the out_dir\n",
    "    img.save(os.path.join(out_dir_1, f'lab_{img_config_id}_v{img_ver_id}.png'))\n"
   ]
  }
 ],
 "metadata": {
  "kernelspec": {
   "display_name": ".venv",
   "language": "python",
   "name": "python3"
  },
  "language_info": {
   "codemirror_mode": {
    "name": "ipython",
    "version": 3
   },
   "file_extension": ".py",
   "mimetype": "text/x-python",
   "name": "python",
   "nbconvert_exporter": "python",
   "pygments_lexer": "ipython3",
   "version": "3.10.12"
  }
 },
 "nbformat": 4,
 "nbformat_minor": 2
}
